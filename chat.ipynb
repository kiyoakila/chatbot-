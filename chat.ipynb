{
  "nbformat": 4,
  "nbformat_minor": 0,
  "metadata": {
    "colab": {
      "name": "chat.ipynb",
      "provenance": []
    },
    "kernelspec": {
      "name": "python3",
      "display_name": "Python 3"
    }
  },
  "cells": [
    {
      "cell_type": "code",
      "metadata": {
        "id": "9Mg2IDL8TeId",
        "colab": {
          "base_uri": "https://localhost:8080/"
        },
        "outputId": "aa927631-3cb4-4e96-827d-78dcc1485208"
      },
      "source": [
        "cd drive/My Drive/chatbot"
      ],
      "execution_count": null,
      "outputs": [
        {
          "output_type": "stream",
          "text": [
            "[Errno 2] No such file or directory: 'drive/My Drive/py/chatbot'\n",
            "/content/drive/My Drive/py/chatbot\n"
          ],
          "name": "stdout"
        }
      ]
    },
    {
      "cell_type": "code",
      "metadata": {
        "id": "HosCpGOJTKQK"
      },
      "source": [
        "import random\n",
        "import json\n",
        "import torch\n",
        "from neural_model import NeuralNet\n",
        "from nltk_utils import bag_of_words, tokenize\n",
        "\n",
        "device = torch.device('cuda' if torch.cuda.is_available() else 'cpu')"
      ],
      "execution_count": null,
      "outputs": []
    },
    {
      "cell_type": "code",
      "metadata": {
        "id": "j2CimDYnT19W",
        "colab": {
          "base_uri": "https://localhost:8080/"
        },
        "outputId": "20f24ad1-fde3-4666-8dd4-fbe23dc9740c"
      },
      "source": [
        "with open('intents.json', 'r') as f:\n",
        "  intents = json.load(f)\n",
        "\n",
        "FILE =\"data.pth\"\n",
        "data = torch.load(FILE, map_location=torch.device('cpu') )\n",
        "\n",
        "input_size = data[\"input_size\"]\n",
        "hidden_size = data[\"hidden_size\"]\n",
        "output_size = data[\"output_size\"]\n",
        "all_words = data['all_words']\n",
        "tags = data['tags']\n",
        "model_state = data[\"model_state\"]\n",
        "\n",
        "model = NeuralNet(input_size, hidden_size, output_size).to(device)\n",
        "model.load_state_dict(model_state)\n",
        "model.eval()"
      ],
      "execution_count": null,
      "outputs": [
        {
          "output_type": "execute_result",
          "data": {
            "text/plain": [
              "NeuralNet(\n",
              "  (l1): Linear(in_features=54, out_features=8, bias=True)\n",
              "  (l2): Linear(in_features=8, out_features=8, bias=True)\n",
              "  (l3): Linear(in_features=8, out_features=7, bias=True)\n",
              "  (relu): ReLU()\n",
              ")"
            ]
          },
          "metadata": {
            "tags": []
          },
          "execution_count": 12
        }
      ]
    },
    {
      "cell_type": "code",
      "metadata": {
        "id": "r7pcDxAeVVzz",
        "colab": {
          "base_uri": "https://localhost:8080/"
        },
        "outputId": "64ce7171-9086-4b71-ec68-3fa5ae61da84"
      },
      "source": [
        "bot_name = \"Ricky\"\n",
        "print(\" Let's chat! type 'quit' to exit\")\n",
        "while True:\n",
        "  sentence = input('You: ')\n",
        "  if sentence == \"quit\":\n",
        "    break\n",
        "  sentence = tokenize(sentence)\n",
        "  X =bag_of_words(sentence, all_words)\n",
        "  X = X.reshape(1, X.shape[0])\n",
        "  X = torch.from_numpy(X)\n",
        "  output = model(X)\n",
        "  _, predicted = torch.max(output, dim =1)\n",
        "  tag = tags[predicted.item()]\n",
        "\n",
        "  probs = torch.softmax(output, dim =1)\n",
        "  prob = probs[0][predicted.item()]\n",
        "  if prob.item() > 0.75:\n",
        "    for intent in intents[\"intents\"]:\n",
        "      if tag == intent[\"tag\"]:\n",
        "        print(f\"{bot_name}: {random.choice(intent['responses'])}\")\n",
        "  else:\n",
        "    print(f\"{bot_name}: I don't understand....\")"
      ],
      "execution_count": null,
      "outputs": [
        {
          "output_type": "stream",
          "text": [
            " Let's chat! type 'quit' to exit\n",
            "You: hi\n",
            "Ricky: Hi there, what can I do for you?\n",
            "You: quit\n"
          ],
          "name": "stdout"
        }
      ]
    }
  ]
}